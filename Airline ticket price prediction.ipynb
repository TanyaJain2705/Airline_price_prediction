{
 "cells": [
  {
   "cell_type": "code",
   "execution_count": null,
   "id": "cbba980a",
   "metadata": {},
   "outputs": [],
   "source": [
    "import numpy as np\n",
    "import pandas as pd\n",
    "import matplotlib.pyplot as plt\n",
    "import seaborn as sns\n",
    "import warnings\n",
    "warnings.filterwarnings('ignore')"
   ]
  },
  {
   "cell_type": "code",
   "execution_count": null,
   "id": "4bc04d51",
   "metadata": {},
   "outputs": [],
   "source": [
    "df=pd.read_csv(\"/Users/tanya/Downloads/projects/Clean_Dataset.csv\")"
   ]
  },
  {
   "cell_type": "code",
   "execution_count": null,
   "id": "8485c592",
   "metadata": {},
   "outputs": [],
   "source": [
    "df.head()"
   ]
  },
  {
   "cell_type": "code",
   "execution_count": null,
   "id": "e631a023",
   "metadata": {},
   "outputs": [],
   "source": [
    "df.info()"
   ]
  },
  {
   "cell_type": "code",
   "execution_count": null,
   "id": "0f59e948",
   "metadata": {},
   "outputs": [],
   "source": [
    "df.shape"
   ]
  },
  {
   "cell_type": "code",
   "execution_count": null,
   "id": "af1c5cc9",
   "metadata": {},
   "outputs": [],
   "source": [
    "#Dropping the first column since it isn't required.\n",
    "df.drop(\"Unnamed: 0\",axis=1,inplace=True)"
   ]
  },
  {
   "cell_type": "code",
   "execution_count": null,
   "id": "8c60758e",
   "metadata": {},
   "outputs": [],
   "source": [
    "df.isnull().sum()"
   ]
  },
  {
   "cell_type": "markdown",
   "id": "53b6289f",
   "metadata": {},
   "source": [
    "#### No null values"
   ]
  },
  {
   "cell_type": "code",
   "execution_count": null,
   "id": "4362552f",
   "metadata": {},
   "outputs": [],
   "source": [
    "df.duplicated().sum()"
   ]
  },
  {
   "cell_type": "code",
   "execution_count": null,
   "id": "f93ea7ab",
   "metadata": {},
   "outputs": [],
   "source": [
    "df[\"stops\"].value_counts()"
   ]
  },
  {
   "cell_type": "code",
   "execution_count": null,
   "id": "e31a6be0",
   "metadata": {},
   "outputs": [],
   "source": [
    "df[\"price\"].agg([\"min\",\"max\",\"median\",\"mean\",\"std\"])"
   ]
  },
  {
   "cell_type": "markdown",
   "id": "c9669fff",
   "metadata": {},
   "source": [
    "#### Since the median is smaller than mean, the distribution will be right skewed."
   ]
  },
  {
   "cell_type": "code",
   "execution_count": null,
   "id": "cac4e709",
   "metadata": {},
   "outputs": [],
   "source": [
    "import plotly.express as px\n",
    "fig = px.histogram(df, x=\"price\")\n",
    "fig.show()"
   ]
  },
  {
   "cell_type": "code",
   "execution_count": null,
   "id": "5491b8fc",
   "metadata": {},
   "outputs": [],
   "source": [
    "#outlier analysis\n",
    "sns.boxplot(data=df,x=\"price\",color=\"orange\")"
   ]
  },
  {
   "cell_type": "markdown",
   "id": "fa7c568a",
   "metadata": {},
   "source": [
    "#### There are outliers."
   ]
  },
  {
   "cell_type": "code",
   "execution_count": null,
   "id": "355412c5",
   "metadata": {},
   "outputs": [],
   "source": [
    "df.nunique()"
   ]
  },
  {
   "cell_type": "code",
   "execution_count": null,
   "id": "d78012b8",
   "metadata": {},
   "outputs": [],
   "source": [
    "for col in df.columns:\n",
    "    if df[col].dtype == 'object':\n",
    "        print(df[col].unique())"
   ]
  },
  {
   "cell_type": "markdown",
   "id": "7b0f5d08",
   "metadata": {},
   "source": [
    "### Ratio between the airlines."
   ]
  },
  {
   "cell_type": "code",
   "execution_count": null,
   "id": "ad3ef5c0",
   "metadata": {},
   "outputs": [],
   "source": [
    "df[\"airline\"].value_counts()"
   ]
  },
  {
   "cell_type": "code",
   "execution_count": null,
   "id": "d12e2d7e",
   "metadata": {},
   "outputs": [],
   "source": [
    "plt.figure(figsize=(15,8))\n",
    "plt.subplot(1,2,1)\n",
    "sns.countplot(x='airline',data=df,palette=\"Greens_d\",order=df['airline'].value_counts().index)\n",
    "plt.title(\"Airline distribution\")\n",
    "plt.subplot(1,2,2)\n",
    "plt.title('Airline distribution', fontsize=16)\n",
    "df['airline'].value_counts().plot(kind='pie', legend=None, ylabel='', autopct='%1.1f%%')\n",
    "plt.show()"
   ]
  },
  {
   "cell_type": "markdown",
   "id": "9219d8ea",
   "metadata": {},
   "source": [
    "### How is price from one airline to another?"
   ]
  },
  {
   "cell_type": "code",
   "execution_count": null,
   "id": "095e3c6c",
   "metadata": {},
   "outputs": [],
   "source": [
    "plt.figure(figsize=(15,5))\n",
    "sns.boxplot(x=df['airline'],y=df['price'],palette='hls',order=df['airline'].value_counts().index)\n",
    "plt.title('Airlines Vs Price',fontsize=15)\n",
    "plt.xlabel('Airline',fontsize=15)\n",
    "plt.ylabel('Price',fontsize=15)\n",
    "plt.show()"
   ]
  },
  {
   "cell_type": "markdown",
   "id": "c28902ea",
   "metadata": {},
   "source": [
    "### Ratio between the classes."
   ]
  },
  {
   "cell_type": "code",
   "execution_count": null,
   "id": "8b884997",
   "metadata": {},
   "outputs": [],
   "source": [
    "plt.figure(figsize=(15,8))\n",
    "plt.subplot(2,2,1)\n",
    "sns.countplot(x='class',data=df,palette=\"Greens_d\",order=df['class'].value_counts().index)\n",
    "plt.title(\"Class distribution\")\n",
    "plt.subplot(2,2,2)\n",
    "plt.title('Class distribution', fontsize=16)\n",
    "df['class'].value_counts().plot(kind='pie', legend=None, ylabel='', autopct='%1.1f%%')\n",
    "plt.legend(['Economy','Business'])\n",
    "plt.show()"
   ]
  },
  {
   "cell_type": "markdown",
   "id": "5d3a52cd",
   "metadata": {},
   "source": [
    "### How does the ticket price vary between Economy and Business class?"
   ]
  },
  {
   "cell_type": "code",
   "execution_count": null,
   "id": "8c98476f",
   "metadata": {},
   "outputs": [],
   "source": [
    "px.box(df,x='class',y='price',color='airline',title='Airline prices based on the class and company')"
   ]
  },
  {
   "cell_type": "markdown",
   "id": "d53af535",
   "metadata": {},
   "source": [
    "There are slight differences between each companies on this graph, AirAsia seems to have the cheapest flights when Air India and Vistara are more expensive. However it looks like Vistara's business tickets are a little more expensive than the Air India's ones."
   ]
  },
  {
   "cell_type": "markdown",
   "id": "c0e77bf7",
   "metadata": {},
   "source": [
    "### Number of stops"
   ]
  },
  {
   "cell_type": "code",
   "execution_count": null,
   "id": "4ad8a246",
   "metadata": {},
   "outputs": [],
   "source": [
    "plt.figure(figsize=(3,3))\n",
    "sns.countplot(x='stops',data=df)\n",
    "plt.show()"
   ]
  },
  {
   "cell_type": "markdown",
   "id": "5b0c482c",
   "metadata": {},
   "source": [
    "### How Does the Ticket Price vary with the number of stops of a Flight?"
   ]
  },
  {
   "cell_type": "code",
   "execution_count": null,
   "id": "5b72de61",
   "metadata": {},
   "outputs": [],
   "source": [
    "fig, axs = plt.subplots (1, 2, gridspec_kw={'width_ratios': [5, 3]}, figsize=(25, 5))\n",
    "sns.barplot(y = \"price\", x = \"airline\",hue=\"stops\",data = df.loc[df[\"class\"]=='Economy'].sort_values(\"price\", ascending = False), ax=axs[0])\n",
    "axs[0].set_title(\"Airline prices based on the number of stops  for economy\",fontsize=20)\n",
    "sns.barplot(y = \"price\", x = \"airline\",hue=\"stops\",data = df.loc[df[\"class\"]=='Business'].sort_values(\"price\", ascending = False), ax=axs[1])\n",
    "axs[1].set_title(\"Airline prices based on the number of stops  for business\",fontsize=20)"
   ]
  },
  {
   "cell_type": "markdown",
   "id": "af5e8d7e",
   "metadata": {},
   "source": [
    "### How the Ticket Price change based on the Departure Time and Arrival Time?"
   ]
  },
  {
   "cell_type": "code",
   "execution_count": null,
   "id": "5de9f34d",
   "metadata": {},
   "outputs": [],
   "source": [
    "plt.figure(figsize=(24,10))\n",
    "plt.subplot(1,2,1)\n",
    "sns.boxplot(x='departure_time',y='price',data=df)\n",
    "plt.title('Departure Time Vs Ticket Price',fontsize=20)\n",
    "plt.xlabel('Departure Time',fontsize=15)\n",
    "plt.ylabel('Price',fontsize=15)\n",
    "plt.subplot(1,2,2)\n",
    "sns.boxplot(x='arrival_time',y='price',data=df,palette='hls')\n",
    "plt.title('Arrival Time Vs Ticket Price',fontsize=20)\n",
    "plt.xlabel('Arrival Time',fontsize=15)\n",
    "plt.ylabel('Price',fontsize=15)\n",
    "plt.show()"
   ]
  },
  {
   "cell_type": "markdown",
   "id": "43093cc7",
   "metadata": {},
   "source": [
    "### How the price changes with change in Source city and Destination city?"
   ]
  },
  {
   "cell_type": "code",
   "execution_count": null,
   "id": "0b75c3b1",
   "metadata": {},
   "outputs": [],
   "source": [
    "plt.figure(figsize=(24,10))\n",
    "plt.subplot(1,2,1)\n",
    "sns.boxplot(x='source_city',y='price',data=df)\n",
    "plt.title('Source City Vs Ticket Price',fontsize=20)\n",
    "plt.xlabel('Source City',fontsize=15)\n",
    "plt.ylabel('Price',fontsize=15)\n",
    "plt.subplot(1,2,2)\n",
    "sns.boxplot(x='destination_city',y='price',data=df,palette='hls')\n",
    "plt.title('Destination City Vs Ticket Price',fontsize=20)\n",
    "plt.xlabel('Destination City',fontsize=15)\n",
    "plt.ylabel('Price',fontsize=15)\n",
    "plt.show()"
   ]
  },
  {
   "cell_type": "markdown",
   "id": "376b0289",
   "metadata": {},
   "source": [
    "### How does the price affected on the days left for Departure?"
   ]
  },
  {
   "cell_type": "code",
   "execution_count": null,
   "id": "b421afa2",
   "metadata": {},
   "outputs": [],
   "source": [
    "plt.figure(figsize=(20,8))\n",
    "sns.lineplot(data=df,x='days_left',y='price',color='blue')\n",
    "plt.title('Days Left For Departure Versus Ticket Price',fontsize=20)\n",
    "plt.xlabel('Days Left for Departure',fontsize=15)\n",
    "plt.ylabel('Price',fontsize=15)\n",
    "plt.show()"
   ]
  },
  {
   "cell_type": "code",
   "execution_count": null,
   "id": "18c2adf2",
   "metadata": {},
   "outputs": [],
   "source": [
    "plt.figure(figsize=(20,8))\n",
    "sns.lineplot(data=df,x='days_left',y='price',color='blue',hue='airline',palette='hls')\n",
    "plt.title('Days Left For Departure Versus Ticket Price of each Airline',fontsize=15)\n",
    "plt.legend(fontsize=12)\n",
    "plt.xlabel('Days Left for Departure',fontsize=15)\n",
    "plt.ylabel('Price',fontsize=15)\n",
    "plt.show()"
   ]
  },
  {
   "cell_type": "code",
   "execution_count": null,
   "id": "25be4468",
   "metadata": {},
   "outputs": [],
   "source": [
    "sns.lineplot(data=df, x='days_left', y='price', hue = 'departure_time')\n",
    "plt.title('Days Left For Departure Versus Ticket Price wrt departure time')\n",
    "plt.xlabel('Days Left for Departure', fontsize=15)\n",
    "plt.ylabel('Price', fontsize=15)\n",
    "plt.legend(bbox_to_anchor=(1.4, 1), loc='best', borderaxespad=0)\n",
    "plt.show()"
   ]
  },
  {
   "cell_type": "markdown",
   "id": "9b9b708e",
   "metadata": {},
   "source": [
    "Prices for flights are highest when there are only 1-3 days left for departure, but decrease as the days left for departure increase.\n",
    "Air India and Vistara are the most expensive airlines, and prices decrease as the days left for departure increase.\n",
    "Late night departure times have lower prices compared to other departure times, but prices for late night arrival times are higher than evening arrivals."
   ]
  },
  {
   "cell_type": "markdown",
   "id": "a0702544",
   "metadata": {},
   "source": [
    "### Does the price change with the duration of the flight?"
   ]
  },
  {
   "cell_type": "code",
   "execution_count": null,
   "id": "3f517fd9",
   "metadata": {},
   "outputs": [],
   "source": [
    "df_temp = df.groupby(['duration'])['price'].mean().reset_index()\n",
    "\n",
    "plt.figure(figsize=(15,6))\n",
    "ax = sns.scatterplot(x=\"duration\", y=\"price\", data=df_temp).set_title(\"Average prizes depending on the duration\",fontsize=15)"
   ]
  },
  {
   "cell_type": "code",
   "execution_count": null,
   "id": "2671894f",
   "metadata": {},
   "outputs": [],
   "source": [
    "df_bk=df.copy()"
   ]
  },
  {
   "cell_type": "code",
   "execution_count": null,
   "id": "476a0da6",
   "metadata": {},
   "outputs": [],
   "source": [
    "from sklearn.preprocessing import LabelEncoder\n",
    "le=LabelEncoder()\n",
    "for col in df.columns:\n",
    "    if df[col].dtype=='object':\n",
    "        df[col]=le.fit_transform(df[col])"
   ]
  },
  {
   "cell_type": "code",
   "execution_count": null,
   "id": "21bb052d",
   "metadata": {},
   "outputs": [],
   "source": [
    "x=df.drop(['price'],axis=1)\n",
    "y=df['price']"
   ]
  },
  {
   "cell_type": "code",
   "execution_count": null,
   "id": "46bab933",
   "metadata": {},
   "outputs": [],
   "source": [
    "from sklearn.model_selection import train_test_split\n",
    "x_train,x_test,y_train,y_test=train_test_split(x,y,test_size=0.30,random_state=42)\n",
    "x_train.shape,x_test.shape,y_train.shape,y_test.shape"
   ]
  },
  {
   "cell_type": "code",
   "execution_count": null,
   "id": "7221d688",
   "metadata": {},
   "outputs": [],
   "source": [
    "from sklearn.preprocessing import MinMaxScaler\n",
    "mmscaler=MinMaxScaler(feature_range=(0,1))\n",
    "x_train=mmscaler.fit_transform(x_train)\n",
    "x_test=mmscaler.fit_transform(x_test)\n",
    "x_train=pd.DataFrame(x_train)\n",
    "x_test=pd.DataFrame(x_test) "
   ]
  },
  {
   "cell_type": "code",
   "execution_count": null,
   "id": "cd19faeb",
   "metadata": {},
   "outputs": [],
   "source": [
    "from sklearn.linear_model import LinearRegression\n",
    "lr=LinearRegression()\n",
    "lr.fit(x_train, y_train)\n",
    "y_pred = lr.predict(x_test)"
   ]
  },
  {
   "cell_type": "code",
   "execution_count": null,
   "id": "edf52321",
   "metadata": {},
   "outputs": [],
   "source": [
    "from sklearn import metrics\n",
    "print('Mean Absolute Error (MAE):', round(metrics.mean_absolute_error(y_test, y_pred),3))  \n",
    "print('Mean Squared Error (MSE):', round(metrics.mean_squared_error(y_test, y_pred),3))  \n",
    "print('Root Mean Squared Error (RMSE):', round(np.sqrt(metrics.mean_squared_error(y_test, y_pred)),3))\n",
    "print('R2_score:', round(metrics.r2_score(y_test, y_pred),6))"
   ]
  },
  {
   "cell_type": "code",
   "execution_count": null,
   "id": "359f5c37",
   "metadata": {},
   "outputs": [],
   "source": [
    "lr.fit(x_train, y_train)\n",
    "y_pred = lr.predict(x_test)"
   ]
  },
  {
   "cell_type": "code",
   "execution_count": null,
   "id": "8c44d949",
   "metadata": {},
   "outputs": [],
   "source": [
    "out=pd.DataFrame({'Price_actual':y_test,'Price_pred':y_pred})\n",
    "result=df_bk.merge(out,left_index=True,right_index=True)"
   ]
  },
  {
   "cell_type": "code",
   "execution_count": null,
   "id": "583730f0",
   "metadata": {},
   "outputs": [],
   "source": [
    "result.sample(10)"
   ]
  }
 ],
 "metadata": {
  "kernelspec": {
   "display_name": "Python 3 (ipykernel)",
   "language": "python",
   "name": "python3"
  },
  "language_info": {
   "codemirror_mode": {
    "name": "ipython",
    "version": 3
   },
   "file_extension": ".py",
   "mimetype": "text/x-python",
   "name": "python",
   "nbconvert_exporter": "python",
   "pygments_lexer": "ipython3",
   "version": "3.9.16"
  }
 },
 "nbformat": 4,
 "nbformat_minor": 5
}
